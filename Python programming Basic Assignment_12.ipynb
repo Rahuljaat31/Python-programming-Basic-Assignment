{
 "cells": [
  {
   "cell_type": "code",
   "execution_count": null,
   "metadata": {},
   "outputs": [],
   "source": [
    "1. Write a Python program to Extract Unique values dictionary values?"
   ]
  },
  {
   "cell_type": "code",
   "execution_count": 3,
   "metadata": {},
   "outputs": [
    {
     "name": "stdout",
     "output_type": "stream",
     "text": [
      "dict_values(['Delhi', 'Mumbai', 'Chennai', 'Assam', 'Bengal', 'Pune', 'Goa', 'Goa', 'Delhi'])\n",
      "Extraxted Unique Values: ['Bengal', 'Assam', 'Pune', 'Mumbai', 'Goa', 'Delhi', 'Chennai']\n"
     ]
    }
   ],
   "source": [
    "#Ans.1\n",
    "d = {1:'Delhi',2:'Mumbai',3:'Chennai',4:'Assam',5:'Bengal',6:'Pune',7:'Goa',8:\"Goa\",9:\"Delhi\"}\n",
    "print(d.values())\n",
    "print(f'Extraxted Unique Values: {list(set(d.values()))}')"
   ]
  },
  {
   "cell_type": "code",
   "execution_count": null,
   "metadata": {},
   "outputs": [],
   "source": [
    "2. Write a Python program to find the sum of all items in a dictionary?"
   ]
  },
  {
   "cell_type": "code",
   "execution_count": 5,
   "metadata": {},
   "outputs": [
    {
     "name": "stdout",
     "output_type": "stream",
     "text": [
      "Sum of all phone items:  325000\n"
     ]
    }
   ],
   "source": [
    "#Ans.2\n",
    "d = {'Iphone':100000,'Samsung':70000,'Nokia':80000,'Motorola':40000,'Blackberry':35000}\n",
    "print('Sum of all phone items: ',sum(d.values()))"
   ]
  },
  {
   "cell_type": "code",
   "execution_count": null,
   "metadata": {},
   "outputs": [],
   "source": [
    "3. Write a Python program to Merging two Dictionaries?"
   ]
  },
  {
   "cell_type": "code",
   "execution_count": 7,
   "metadata": {},
   "outputs": [
    {
     "name": "stdout",
     "output_type": "stream",
     "text": [
      "{'India': 'Delhi', 'Agra': 'Tajmahal'}\n"
     ]
    }
   ],
   "source": [
    "#Ans.3\n",
    "country_capital = { 'India':'Delhi'}\n",
    "Places = {'Agra':'Tajmahal'}\n",
    "\n",
    "country_capital.update(Places) #Merging\n",
    "\n",
    "print(country_capital)"
   ]
  },
  {
   "cell_type": "code",
   "execution_count": null,
   "metadata": {},
   "outputs": [],
   "source": [
    "4. Write a Python program to convert key-values list to flat dictionary?"
   ]
  },
  {
   "cell_type": "code",
   "execution_count": 9,
   "metadata": {},
   "outputs": [
    {
     "name": "stdout",
     "output_type": "stream",
     "text": [
      "Flat dictionary is : {101: 'Jhon', 202: 'Jimmy', 303: 'Jaat', 403: 'Jack'}\n"
     ]
    }
   ],
   "source": [
    "#Ans.4 \n",
    "d = {'ID' : [101, 202, 303,403], 'Name' : ['Jhon', 'Jimmy', 'Jaat','Jack']}\n",
    "  \n",
    "\n",
    "result = dict(zip(d['ID'], d['Name']))# Using dict() + zip() function\n",
    "\n",
    "print(\"Flat dictionary is : \" + str(result)) "
   ]
  },
  {
   "cell_type": "code",
   "execution_count": null,
   "metadata": {},
   "outputs": [],
   "source": [
    "5. Write a Python program to insertion at the beginning in OrderedDict?"
   ]
  },
  {
   "cell_type": "code",
   "execution_count": 10,
   "metadata": {},
   "outputs": [
    {
     "name": "stdout",
     "output_type": "stream",
     "text": [
      "{'A': 'Apple', 'B': 'Samsung', 'C': 'Noika', 'D': 'LG'}\n",
      "OrderedDict([('A', 'Apple'), ('B', 'Samsung'), ('C', 'Noika'), ('D', 'LG')])\n"
     ]
    }
   ],
   "source": [
    "#Ans.5\n",
    "from collections import OrderedDict\n",
    "\n",
    "d = {'A': 'Apple', 'B': 'Samsung', 'C': 'Noika', 'D':'LG'}\n",
    "print(d)\n",
    "\n",
    "d = OrderedDict(d)\n",
    "print(d)"
   ]
  },
  {
   "cell_type": "code",
   "execution_count": null,
   "metadata": {},
   "outputs": [],
   "source": [
    "6. Write a Python program to check order of character in string using OrderedDict()?"
   ]
  },
  {
   "cell_type": "code",
   "execution_count": 13,
   "metadata": {},
   "outputs": [
    {
     "name": "stdout",
     "output_type": "stream",
     "text": [
      "{'D': 'Apple', 'A': 'LG', 'C': 'Noika', 'B': 'Samsung'}\n",
      "OrderedDict([('A', 'LG'), ('B', 'Samsung'), ('C', 'Noika'), ('D', 'Apple')])\n"
     ]
    }
   ],
   "source": [
    "#Ans.6\n",
    "l = {'D': 'Apple', 'A':'LG', 'C': 'Noika', 'B': 'Samsung'}\n",
    "print(l)\n",
    "\n",
    "Order = OrderedDict(dict(sorted(l.items())))\n",
    "print(Order)"
   ]
  },
  {
   "cell_type": "code",
   "execution_count": null,
   "metadata": {},
   "outputs": [],
   "source": [
    "7. Write a Python program to sort Python Dictionaries by Key or Value?"
   ]
  },
  {
   "cell_type": "code",
   "execution_count": 14,
   "metadata": {},
   "outputs": [
    {
     "name": "stdout",
     "output_type": "stream",
     "text": [
      "{'D': 'Apple', 'A': 'LG', 'C': 'Noika', 'B': 'Samsung'}\n",
      "OrderedDict([('A', 'LG'), ('B', 'Samsung'), ('C', 'Noika'), ('D', 'Apple')])\n"
     ]
    }
   ],
   "source": [
    "#Ans.7 Example with string\n",
    "l = {'D': 'Apple', 'A':'LG', 'C': 'Noika', 'B': 'Samsung'}\n",
    "print(l)\n",
    "\n",
    "\n",
    "sor = OrderedDict(sorted(dict.items(l)))\n",
    "print(sor)"
   ]
  },
  {
   "cell_type": "code",
   "execution_count": 15,
   "metadata": {},
   "outputs": [
    {
     "name": "stdout",
     "output_type": "stream",
     "text": [
      "{3: 1000, 1: 2000, 4: 4000, 2: 3000}\n",
      "OrderedDict([(1, 2000), (2, 3000), (3, 1000), (4, 4000)])\n"
     ]
    }
   ],
   "source": [
    "#Ans.7 2nd example with int\n",
    "l = {3: 1000, 1:2000, 4: 4000, 2: 3000}\n",
    "print(l)\n",
    "\n",
    "\n",
    "sor = OrderedDict(sorted(dict.items(l)))\n",
    "print(sor)"
   ]
  }
 ],
 "metadata": {
  "kernelspec": {
   "display_name": "Python 3",
   "language": "python",
   "name": "python3"
  },
  "language_info": {
   "codemirror_mode": {
    "name": "ipython",
    "version": 3
   },
   "file_extension": ".py",
   "mimetype": "text/x-python",
   "name": "python",
   "nbconvert_exporter": "python",
   "pygments_lexer": "ipython3",
   "version": "3.8.3"
  }
 },
 "nbformat": 4,
 "nbformat_minor": 4
}
