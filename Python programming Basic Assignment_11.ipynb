{
 "cells": [
  {
   "cell_type": "code",
   "execution_count": null,
   "metadata": {},
   "outputs": [],
   "source": [
    "1. Write a Python program to find words which are greater than given length k?"
   ]
  },
  {
   "cell_type": "code",
   "execution_count": 5,
   "metadata": {},
   "outputs": [
    {
     "name": "stdout",
     "output_type": "stream",
     "text": [
      "Enter the input string:Write a Python program to find words which are greater than given length k\n",
      "enter the length of string:3\n",
      "['Write', 'Python', 'program', 'find', 'words', 'which', 'greater', 'than', 'given', 'length']\n"
     ]
    }
   ],
   "source": [
    "#Ans.1\n",
    "st = input('Enter the input string:'  )\n",
    "k = int(input('enter the length of string:'  ))\n",
    "grt_st = []\n",
    "words = st.split(\" \")\n",
    "for i in words:\n",
    "    if len(i)>k:\n",
    "        grt_st.append(i)\n",
    "print(grt_st)"
   ]
  },
  {
   "cell_type": "code",
   "execution_count": null,
   "metadata": {},
   "outputs": [],
   "source": [
    "2. Write a Python program for removing i-th character from a string?"
   ]
  },
  {
   "cell_type": "code",
   "execution_count": 9,
   "metadata": {},
   "outputs": [
    {
     "name": "stdout",
     "output_type": "stream",
     "text": [
      "Enter the input string:Rahul\n",
      " Rhul\n"
     ]
    }
   ],
   "source": [
    "#Ans.2\n",
    "st = input('Enter the input string:'  )\n",
    "new_st = \" \"\n",
    "for i in range(len(st)):\n",
    "    if i!=1:\n",
    "        new_st = new_st+st[i]\n",
    "print(new_st)"
   ]
  },
  {
   "cell_type": "code",
   "execution_count": null,
   "metadata": {},
   "outputs": [],
   "source": [
    "3. Write a Python program to split and join a string?"
   ]
  },
  {
   "cell_type": "code",
   "execution_count": 18,
   "metadata": {},
   "outputs": [
    {
     "name": "stdout",
     "output_type": "stream",
     "text": [
      "Enter string:Rahul Panwar is future Data Scientist\n",
      "Splitted ['Rahul', 'Panwar', 'is', 'future', 'Data', 'Scientist']\n",
      "After Join:  Rahul Panwar is future Data Scientist\n"
     ]
    }
   ],
   "source": [
    "#Ans.3\n",
    "st1 = input('Enter string:'  ) \n",
    "split = st1.split()#Split\n",
    "print(\"Splitted\",split)\n",
    "\n",
    "join = ''\n",
    "for word in split:\n",
    "    join = join + \" \" + word #Join\n",
    "print(f\"After Join: {join}\")"
   ]
  },
  {
   "cell_type": "code",
   "execution_count": null,
   "metadata": {},
   "outputs": [],
   "source": [
    "4. Write a Python to check if a given string is binary string or not?"
   ]
  },
  {
   "cell_type": "code",
   "execution_count": 4,
   "metadata": {},
   "outputs": [
    {
     "name": "stdout",
     "output_type": "stream",
     "text": [
      "Enter a string: 0101011\n",
      "0101011 is a binary string\n"
     ]
    }
   ],
   "source": [
    "#Ans.4\n",
    "def checkBin():\n",
    "    st = input('Enter a string: ')\n",
    "    chk = 0\n",
    "    for i in st:\n",
    "        if i in ['0','1']:\n",
    "            chk = 1\n",
    "            continue\n",
    "        else:\n",
    "            chk = 0\n",
    "            break\n",
    "    final = 'is a binary string' if chk == 1 else 'is not a binary string' \n",
    "    print(f'{st} {final}')\n",
    "checkBin()"
   ]
  },
  {
   "cell_type": "code",
   "execution_count": 5,
   "metadata": {},
   "outputs": [
    {
     "name": "stdout",
     "output_type": "stream",
     "text": [
      "Enter a string: rahul010\n",
      "rahul010 is not a binary string\n"
     ]
    }
   ],
   "source": [
    "checkBin()"
   ]
  },
  {
   "cell_type": "code",
   "execution_count": null,
   "metadata": {},
   "outputs": [],
   "source": [
    "5. Write a Python program to find uncommon words from two Strings?"
   ]
  },
  {
   "cell_type": "code",
   "execution_count": 6,
   "metadata": {},
   "outputs": [
    {
     "name": "stdout",
     "output_type": "stream",
     "text": [
      "['Singh']\n"
     ]
    }
   ],
   "source": [
    "#Ans.5\n",
    "def uncom(a,b):\n",
    "    uncomm = [i for i in \"\".join(b).split() if i not in \"\".join(a).split()]\n",
    "    return uncomm\n",
    "\n",
    "\n",
    "st1 = \"Rahul Panwar\"\n",
    "st2 = \"Rahul Singh Panwar\"\n",
    "\n",
    "print(uncom(st1, st2))"
   ]
  },
  {
   "cell_type": "code",
   "execution_count": null,
   "metadata": {},
   "outputs": [],
   "source": [
    "6. Write a Python to find all duplicate characters in string?"
   ]
  },
  {
   "cell_type": "code",
   "execution_count": 10,
   "metadata": {},
   "outputs": [
    {
     "name": "stdout",
     "output_type": "stream",
     "text": [
      "Enter string: Rahul Panwar\n",
      "['R', 'a', 'h', 'u', 'l', ' ', 'P', 'a', 'n', 'w', 'a', 'r']\n",
      "Duplicate character is ['a']\n"
     ]
    }
   ],
   "source": [
    "#Ans.6\n",
    "st = input(\"Enter string: \")\n",
    "l = list(st)\n",
    "print(l)\n",
    "dup = list()\n",
    "for i in l:\n",
    "    l.remove(i)\n",
    "    if i in l:       \n",
    "        dup.append(i)\n",
    "\n",
    "print(\"Duplicate character is\",dup)        "
   ]
  },
  {
   "cell_type": "code",
   "execution_count": null,
   "metadata": {},
   "outputs": [],
   "source": [
    "7. Write a Python Program to check if a string contains any special character?"
   ]
  },
  {
   "cell_type": "code",
   "execution_count": 13,
   "metadata": {},
   "outputs": [
    {
     "name": "stdout",
     "output_type": "stream",
     "text": [
      "Enter a string: Rahul #Panwar\n",
      "Consists special characters\n"
     ]
    }
   ],
   "source": [
    "#Ans.7\n",
    "import re\n",
    "\n",
    "st = input(\"Enter a string: \")\n",
    "regex = re.compile('[@_!#$%^&*()<>?/\\|}{~:]')  \n",
    "\n",
    "if(regex.search(st) == None):\n",
    "    print(\"No special characters\")\n",
    "else:\n",
    "    print(\"Consists special characters\")"
   ]
  }
 ],
 "metadata": {
  "kernelspec": {
   "display_name": "Python 3",
   "language": "python",
   "name": "python3"
  }
 },
 "nbformat": 4,
 "nbformat_minor": 4
}
