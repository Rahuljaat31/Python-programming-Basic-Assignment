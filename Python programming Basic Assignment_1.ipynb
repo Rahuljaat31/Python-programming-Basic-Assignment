{
 "cells": [
  {
   "cell_type": "markdown",
   "metadata": {},
   "source": [
    "1. Write a Python program to print \"Hello Python\"?"
   ]
  },
  {
   "cell_type": "code",
   "execution_count": 5,
   "metadata": {},
   "outputs": [
    {
     "name": "stdout",
     "output_type": "stream",
     "text": [
      "Hello Python\n"
     ]
    }
   ],
   "source": [
    "#Ans.1\n",
    "print(\"Hello Python\")"
   ]
  },
  {
   "cell_type": "markdown",
   "metadata": {},
   "source": [
    "2. Write a Python program to do arithmetical operations addition and division.?"
   ]
  },
  {
   "cell_type": "code",
   "execution_count": 20,
   "metadata": {},
   "outputs": [
    {
     "name": "stdout",
     "output_type": "stream",
     "text": [
      "Enter first number: 20\n",
      "Enter Second number:  20\n",
      "Enter A for Addition and D for Division:  A\n",
      "Addition of a & b:   40\n"
     ]
    }
   ],
   "source": [
    "#Ans.2\n",
    "a = int(input(\"Enter first number: \"))\n",
    "b = int(input(\"Enter Second number:  \"))\n",
    "s = input(\"Enter A for Addition and D for Division:  \")\n",
    "if (s == \"A\"):\n",
    "    print(\"Addition of a & b:  \", a+b)\n",
    "if (s == \"D\"):\n",
    "    print(\"Division of a & b:  \", a/b)"
   ]
  },
  {
   "cell_type": "markdown",
   "metadata": {},
   "source": [
    "3. Write a Python program to find the area of a triangle?"
   ]
  },
  {
   "cell_type": "code",
   "execution_count": 24,
   "metadata": {},
   "outputs": [
    {
     "name": "stdout",
     "output_type": "stream",
     "text": [
      "Enter height of a Triangle: 8\n",
      "Enter base of a Triangle: 9\n",
      "Area of a Triangle: 36.0\n"
     ]
    }
   ],
   "source": [
    "#Ans.3\n",
    "H = int(input('Enter height of a Triangle: '))\n",
    "B = int(input('Enter base of a Triangle: '))\n",
    "A = 0.5*H*B\n",
    "print('Area of a Triangle:', A)"
   ]
  },
  {
   "cell_type": "markdown",
   "metadata": {},
   "source": [
    "4. Write a Python program to swap two variables?"
   ]
  },
  {
   "cell_type": "code",
   "execution_count": 26,
   "metadata": {},
   "outputs": [
    {
     "name": "stdout",
     "output_type": "stream",
     "text": [
      "Enter first number: 1\n",
      "Enter Second number:  2\n",
      "Before swaping a = 1, b = 2\n",
      "After swaping a = 2, b = 1\n"
     ]
    }
   ],
   "source": [
    "#Ans.4\n",
    "a = int(input(\"Enter first number: \"))\n",
    "b = int(input(\"Enter Second number:  \"))\n",
    "\n",
    "print(\"Before swaping a = {}, b = {}\".format(a,b))\n",
    "\n",
    "temp = a\n",
    "a = b\n",
    "b = temp\n",
    "\n",
    "print(\"After swaping a = {}, b = {}\".format(a,b))"
   ]
  },
  {
   "cell_type": "markdown",
   "metadata": {},
   "source": [
    "5. Write a Python program to generate a random number?"
   ]
  },
  {
   "cell_type": "code",
   "execution_count": 30,
   "metadata": {},
   "outputs": [
    {
     "name": "stdout",
     "output_type": "stream",
     "text": [
      "Random number between 1 and 10000000 is : 5511614\n"
     ]
    }
   ],
   "source": [
    "#Ans.5\n",
    "import random\n",
    "print('Random number between 1 and 10000000 is :', random.randint(1,10000000))"
   ]
  }
 ],
 "metadata": {
  "kernelspec": {
   "display_name": "Python 3",
   "language": "python",
   "name": "python3"
  },
  "language_info": {
   "codemirror_mode": {
    "name": "ipython",
    "version": 3
   },
   "file_extension": ".py",
   "mimetype": "text/x-python",
   "name": "python",
   "nbconvert_exporter": "python",
   "pygments_lexer": "ipython3",
   "version": "3.8.3"
  }
 },
 "nbformat": 4,
 "nbformat_minor": 4
}
