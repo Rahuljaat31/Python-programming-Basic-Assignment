{
 "cells": [
  {
   "cell_type": "markdown",
   "metadata": {},
   "source": [
    "1. Write a Python Program to find sum of array?"
   ]
  },
  {
   "cell_type": "code",
   "execution_count": 4,
   "metadata": {},
   "outputs": [
    {
     "name": "stdout",
     "output_type": "stream",
     "text": [
      "Enter number of elements : 5\n",
      "Enter array numbers\n",
      "1\n",
      "2\n",
      "3\n",
      "4\n",
      "5\n",
      "Array elements are : [1, 2, 3, 4, 5]\n",
      "Sum of array is :  15\n"
     ]
    }
   ],
   "source": [
    "#Ans.1\n",
    "lst = []\n",
    "n = int(input(\"Enter number of elements : \"))\n",
    "print(\"Enter array numbers\")\n",
    "\n",
    "for i in range(0, n):\n",
    "    ele = int(input())\n",
    "    lst.append(ele)\n",
    "print(\"Array elements are :\", lst)   \n",
    "print(\"Sum of array is : \",sum(lst))"
   ]
  },
  {
   "cell_type": "markdown",
   "metadata": {},
   "source": [
    "2. Write a Python Program to find largest element in an array?"
   ]
  },
  {
   "cell_type": "code",
   "execution_count": 8,
   "metadata": {},
   "outputs": [
    {
     "name": "stdout",
     "output_type": "stream",
     "text": [
      "Enter number of elements : 4\n",
      "Enter array numbers\n",
      "1\n",
      "2\n",
      "31\n",
      "3\n",
      "Largest element in array is 31\n"
     ]
    }
   ],
   "source": [
    "#Ans.2\n",
    "lst = []\n",
    "n = int(input(\"Enter number of elements : \"))\n",
    "print(\"Enter array numbers\")\n",
    "\n",
    "for i in range(0, n):\n",
    "    ele = int(input())\n",
    "    lst.append(ele)\n",
    "print(\"Largest element in array is {}\".format(max(lst)))"
   ]
  },
  {
   "cell_type": "markdown",
   "metadata": {},
   "source": [
    "3. Write a Python Program for array rotation?"
   ]
  },
  {
   "cell_type": "code",
   "execution_count": 5,
   "metadata": {},
   "outputs": [
    {
     "name": "stdout",
     "output_type": "stream",
     "text": [
      "Array before  rotation is  [1, 2, 3, 4, 5, 6, 7, 8]\n",
      "Array after rotation is  [8, 7, 6, 5, 4, 3, 2, 1]\n"
     ]
    }
   ],
   "source": [
    "#Ans.3\n",
    "ar =[1,2,3,4,5,6,7,8]\n",
    "temp=[]\n",
    "\n",
    "print(\"Array before  rotation is \" ,ar)\n",
    "for i in range(0,len(ar)):\n",
    "    temp.append(ar[i])\n",
    "\n",
    "rotate_ar= []\n",
    "for j in range(0,len(ar)):\n",
    "    ar[j] =temp[(len(temp)-1)-j]\n",
    "    \n",
    "    rotate_ar.append(ar[j])\n",
    "print(\"Array after rotation is \",rotate_ar)"
   ]
  },
  {
   "cell_type": "markdown",
   "metadata": {},
   "source": [
    "4. Write a Python Program to Split the array and add the first part to the end?"
   ]
  },
  {
   "cell_type": "code",
   "execution_count": 9,
   "metadata": {},
   "outputs": [
    {
     "name": "stdout",
     "output_type": "stream",
     "text": [
      "Original Array [1, 2, 4, 5, 6, 7]\n",
      "New array is  [5, 6, 7, 1, 2, 4]\n"
     ]
    }
   ],
   "source": [
    "#Ans.4\n",
    "ar =[1,2,4,5 ,6,7]\n",
    "\n",
    "b =[]\n",
    "\n",
    "temp=[]\n",
    "for i in range(0,len(ar)):\n",
    "    temp.append(ar[i])\n",
    "\n",
    "print(\"Original Array\",temp)\n",
    "\n",
    "for j in range(int(len(temp)/2) ,len(temp)):\n",
    "    b.append(temp[j])\n",
    "\n",
    "for m in range(0, int(len(temp)/2)):\n",
    "    b.append(temp[m])\n",
    "print(\"New array is \" ,b)"
   ]
  },
  {
   "cell_type": "markdown",
   "metadata": {},
   "source": [
    "5. Write a Python Program to check if given array is Monotonic?"
   ]
  },
  {
   "cell_type": "code",
   "execution_count": 15,
   "metadata": {},
   "outputs": [
    {
     "name": "stdout",
     "output_type": "stream",
     "text": [
      "True\n"
     ]
    }
   ],
   "source": [
    "#Ans.5\n",
    "def monotonic(a):\n",
    "    n = len(a)\n",
    "    return (all(a[i]<=a[i+1] for i in range(n-1)) or\n",
    "            all(a[i]>=a[i+1] for i in range(n-1)))\n",
    "a = [10, 9, 8, 7, 6, 5, 1]\n",
    "print(monotonic(a))"
   ]
  }
 ],
 "metadata": {
  "kernelspec": {
   "display_name": "Python 3",
   "language": "python",
   "name": "python3"
  },
  "language_info": {
   "codemirror_mode": {
    "name": "ipython",
    "version": 3
   },
   "file_extension": ".py",
   "mimetype": "text/x-python",
   "name": "python",
   "nbconvert_exporter": "python",
   "pygments_lexer": "ipython3",
   "version": "3.8.3"
  }
 },
 "nbformat": 4,
 "nbformat_minor": 4
}
