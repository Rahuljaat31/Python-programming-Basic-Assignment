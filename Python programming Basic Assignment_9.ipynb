{
 "cells": [
  {
   "cell_type": "markdown",
   "metadata": {},
   "source": [
    "1. Write a Python program to check if the given number is a Disarium Number?"
   ]
  },
  {
   "cell_type": "code",
   "execution_count": 7,
   "metadata": {},
   "outputs": [
    {
     "name": "stdout",
     "output_type": "stream",
     "text": [
      "89 is Disarium No.\n"
     ]
    }
   ],
   "source": [
    "#Ans.1\n",
    "def disNumb(num):\n",
    "    str_num = str(num)\n",
    "    sum = 0\n",
    "    for a,i in enumerate(str_num):\n",
    "        sum = sum + int(i) ** (a+1)\n",
    "    if num == sum:\n",
    "        print(f\"{num} is Disarium No.\")\n",
    "    else:\n",
    "        print(f\"{num} is not Disarium No.\")\n",
    "        \n",
    "disNumb(89)"
   ]
  },
  {
   "cell_type": "markdown",
   "metadata": {},
   "source": [
    "2. Write a Python program to print all disarium numbers between 1 to 100?"
   ]
  },
  {
   "cell_type": "code",
   "execution_count": 10,
   "metadata": {},
   "outputs": [
    {
     "name": "stdout",
     "output_type": "stream",
     "text": [
      "Disarium Number in range 1 to 100: \n",
      "1 2 3 4 5 6 7 8 9 89 "
     ]
    }
   ],
   "source": [
    "#Ans.2\n",
    "def DisRange(num):\n",
    "    print(f\"Disarium Number in range 1 to {num}: \")\n",
    "    for i in range(1,num):\n",
    "        str_num = str(i)\n",
    "        sum = 0\n",
    "        for a,b in enumerate(str_num):\n",
    "            sum = sum + int(b) ** (a+1)\n",
    "            \n",
    "        if i == sum:\n",
    "            print(i,end=\" \")\n",
    "            \n",
    "DisRange(100)                       "
   ]
  },
  {
   "cell_type": "markdown",
   "metadata": {},
   "source": [
    "3. Write a Python program to check if the given number is Happy Number?"
   ]
  },
  {
   "cell_type": "code",
   "execution_count": 32,
   "metadata": {},
   "outputs": [
    {
     "name": "stdout",
     "output_type": "stream",
     "text": [
      "Enter Number: 19\n",
      "19 is not a Happy Number\n"
     ]
    }
   ],
   "source": [
    "#Ans.3\n",
    "def HappyNumber():\n",
    "    n = input('Enter Number: ')\n",
    "    dup = n\n",
    "    trackNum = set()   \n",
    "    while True:\n",
    "        if n != '1' and str(n) not in trackNum:\n",
    "            trackNum.add(n)\n",
    "            sum = 0\n",
    "            for ele in range(len((n))):\n",
    "                sum = sum + int(n[ele])**2\n",
    "            in_num = str(sum)\n",
    "        elif str(n) in trackNum:\n",
    "            print(f'{dup} is not a Happy Number')\n",
    "            break\n",
    "        else:\n",
    "            print(f'{dup} is a Happy Number')\n",
    "            break\n",
    "            \n",
    "HappyNumber()"
   ]
  },
  {
   "cell_type": "markdown",
   "metadata": {},
   "source": [
    "4. Write a Python program to print all happy numbers between 1 and 100?"
   ]
  },
  {
   "cell_type": "code",
   "execution_count": 41,
   "metadata": {},
   "outputs": [
    {
     "name": "stdout",
     "output_type": "stream",
     "text": [
      "Happy number from 1 to 100 :\n",
      "1\n",
      "7\n",
      "10\n",
      "13\n",
      "19\n",
      "23\n",
      "28\n",
      "31\n",
      "32\n",
      "44\n",
      "49\n",
      "68\n",
      "70\n",
      "79\n",
      "82\n",
      "86\n",
      "91\n",
      "94\n",
      "97\n"
     ]
    }
   ],
   "source": [
    "#Ans.4\n",
    "def HappyNumrange(num):    \n",
    "    r = sum = 0    \n",
    "        \n",
    "    while(num > 0):    \n",
    "        r = num%10    \n",
    "        sum = sum + (r*r)   \n",
    "        num = num//10   \n",
    "    return sum    \n",
    "\n",
    "print('Happy number from 1 to 100 :')    \n",
    "for i in range (1,100):\n",
    "    result=i\n",
    "     \n",
    "    while(result != 1 and result != 4):    \n",
    "        result = HappyNumrange(result)    \n",
    "     \n",
    "    if(result == 1):    \n",
    "        print(i)"
   ]
  },
  {
   "cell_type": "markdown",
   "metadata": {},
   "source": [
    "5. Write a Python program to determine whether the given number is a Harshad Number?"
   ]
  },
  {
   "cell_type": "code",
   "execution_count": 44,
   "metadata": {},
   "outputs": [
    {
     "name": "stdout",
     "output_type": "stream",
     "text": [
      "Enter a Number to check: 8\n",
      "8 is Harshad Number\n"
     ]
    }
   ],
   "source": [
    "#Ans.5\n",
    "def HarshadNumber():\n",
    "    num = input('Enter a Number to check: ')\n",
    "    sum = 0\n",
    "    for item in range(len(num)):\n",
    "        sum = sum + int(num[item])\n",
    "    if int(num)%sum == 0:\n",
    "        print(f'{num} is Harshad Number')\n",
    "    else:\n",
    "        print(f'{num} is Not Harshad Number')\n",
    "        \n",
    "HarshadNumber()"
   ]
  },
  {
   "cell_type": "markdown",
   "metadata": {},
   "source": [
    "6. Write a Python program to print all pronic numbers between 1 and 100?"
   ]
  },
  {
   "cell_type": "code",
   "execution_count": 46,
   "metadata": {},
   "outputs": [
    {
     "name": "stdout",
     "output_type": "stream",
     "text": [
      "Pronic numbers between 1 and 100:\n",
      "2\n",
      "6\n",
      "12\n",
      "20\n",
      "30\n",
      "42\n",
      "56\n",
      "72\n",
      "90\n"
     ]
    }
   ],
   "source": [
    "#Ans.6\n",
    "def pronNum(n):\n",
    "    p = False\n",
    "    for i in range(1,n+1):\n",
    "        if i * (i+1) == n:\n",
    "            p = True\n",
    "            break\n",
    "    return p\n",
    "\n",
    "print(\"Pronic numbers between 1 and 100:\")\n",
    "for i in range(1,101):\n",
    "    if pronNum(i):\n",
    "        print(i)"
   ]
  }
 ],
 "metadata": {
  "kernelspec": {
   "display_name": "Python 3",
   "language": "python",
   "name": "python3"
  },
  "language_info": {
   "codemirror_mode": {
    "name": "ipython",
    "version": 3
   },
   "file_extension": ".py",
   "mimetype": "text/x-python",
   "name": "python",
   "nbconvert_exporter": "python",
   "pygments_lexer": "ipython3",
   "version": "3.8.3"
  }
 },
 "nbformat": 4,
 "nbformat_minor": 4
}
