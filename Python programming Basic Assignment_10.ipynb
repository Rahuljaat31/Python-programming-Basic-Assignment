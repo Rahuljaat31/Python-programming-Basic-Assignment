{
 "cells": [
  {
   "cell_type": "code",
   "execution_count": 3,
   "metadata": {},
   "outputs": [
    {
     "name": "stdout",
     "output_type": "stream",
     "text": [
      "Sum of elements in list are: 55\n"
     ]
    }
   ],
   "source": [
    "#1. Write a Python program to find sum of elements in list?\n",
    "#Ans.1\n",
    "l = [1,2,3,4,5,6,7,8,9,10]\n",
    "sum = 0\n",
    "for i in range(len(l)):\n",
    "    sum =sum+l[i]\n",
    "    \n",
    "print('Sum of elements in list are:',sum)"
   ]
  },
  {
   "cell_type": "code",
   "execution_count": 5,
   "metadata": {},
   "outputs": [
    {
     "name": "stdout",
     "output_type": "stream",
     "text": [
      "Multiplication  of elements in list are: 3628800\n"
     ]
    }
   ],
   "source": [
    "#2. Write a Python program to Multiply all numbers in the list?\n",
    "#Ans.2\n",
    "l = [1,2,3,4,5,6,7,8,9,10]\n",
    "mult = 1\n",
    "for i in range(len(l)):\n",
    "    mult =mult*l[i]\n",
    "    \n",
    "print('Multiplication  of elements in list are:', mult)"
   ]
  },
  {
   "cell_type": "code",
   "execution_count": 7,
   "metadata": {},
   "outputs": [
    {
     "name": "stdout",
     "output_type": "stream",
     "text": [
      "Smallest no. in list is: 1\n"
     ]
    }
   ],
   "source": [
    "#3. Write a Python program to find smallest number in a list?\n",
    "#Ans.3\n",
    "l = [10,9,8,7,6,5,4,3,2,1]\n",
    "smal = l[0]\n",
    "for i in range(len(l)):\n",
    "    if l[i] < smal:\n",
    "        smal = l[i]\n",
    "print('Smallest no. in list is:',smal)"
   ]
  },
  {
   "cell_type": "code",
   "execution_count": 8,
   "metadata": {},
   "outputs": [
    {
     "name": "stdout",
     "output_type": "stream",
     "text": [
      "largest number in a list is: 10\n"
     ]
    }
   ],
   "source": [
    "#4. Write a Python program to find largest number in a list?\n",
    "#Ans.4\n",
    "l = [10,9,8,7,6,5,4,3,2,1]\n",
    "lar = l[0]\n",
    "for i in range(len(l)):\n",
    "    if l[i] > lar:\n",
    "        lar = l[i]\n",
    "print('largest number in a list is:',lar)"
   ]
  },
  {
   "cell_type": "code",
   "execution_count": 9,
   "metadata": {},
   "outputs": [
    {
     "name": "stdout",
     "output_type": "stream",
     "text": [
      "second largest number in a list is 9\n"
     ]
    }
   ],
   "source": [
    "#5. Write a Python program to find second largest number in a list?\n",
    "#Ans.5\n",
    "l = [10,9,8,7,6,5,4,3,2,1]\n",
    "\n",
    "for i in range(len(l)-1):\n",
    "    l.sort()\n",
    "l1 = l[::-1]\n",
    "print('second largest number in a list is', l1[1])"
   ]
  },
  {
   "cell_type": "code",
   "execution_count": 16,
   "metadata": {},
   "outputs": [
    {
     "name": "stdout",
     "output_type": "stream",
     "text": [
      "Enter the value of N \n",
      "9\n",
      "The 9 largest number in a list are\n",
      "81\n",
      "73\n",
      "56\n",
      "51\n",
      "33\n",
      "21\n",
      "19\n",
      "14\n",
      "11\n"
     ]
    }
   ],
   "source": [
    "#6. Write a Python program to find N largest elements from a list?\n",
    "#Ans.6\n",
    "lst = [11,21,33,14,51,56,73,81,19,10]\n",
    "print('Enter the value of N ')\n",
    "N = int(input())\n",
    "for i in range(len(l)-1):\n",
    "    lst.sort()\n",
    "l = lst[::-1]\n",
    "print('The', N ,'largest number in a list are')\n",
    "for i in range(N):\n",
    "    print(l[i])"
   ]
  },
  {
   "cell_type": "code",
   "execution_count": 17,
   "metadata": {},
   "outputs": [
    {
     "name": "stdout",
     "output_type": "stream",
     "text": [
      "[2, 4, 6, 8, 10, 12, 14, 16, 18, 20]\n"
     ]
    }
   ],
   "source": [
    "#7. Write a Python program to print even numbers in a list?\n",
    "#Ans.7\n",
    "l = [1,2,3,4,5,6,7,8,9,10,11,12,13,14,15,16,17,18,19,20]\n",
    "even =[]\n",
    "for i in range(len(l)):\n",
    "    if l[i]% 2 == 0:\n",
    "        even.append(l[i])\n",
    "print(even)"
   ]
  },
  {
   "cell_type": "code",
   "execution_count": 18,
   "metadata": {},
   "outputs": [
    {
     "name": "stdout",
     "output_type": "stream",
     "text": [
      "[1, 3, 5, 7, 9, 11, 13, 15, 17]\n"
     ]
    }
   ],
   "source": [
    "#8. Write a Python program to print odd numbers in a List?\n",
    "#Ans.8\n",
    "l = [1,2,3,4,5,6,7,8,9,10,11,12,13,14,15,16,17,18,20]\n",
    "odd =[]\n",
    "for i in range(len(l)):\n",
    "    if l[i]% 2 == 1:\n",
    "        odd.append(l[i])\n",
    "print(odd)"
   ]
  },
  {
   "cell_type": "code",
   "execution_count": 29,
   "metadata": {},
   "outputs": [
    {
     "name": "stdout",
     "output_type": "stream",
     "text": [
      "[1, 2, 3, [1, 2, 3], 5, 6, 7, 8, 9, 10, 11, 12]\n"
     ]
    }
   ],
   "source": [
    "#9. Write a Python program to Remove empty List from List?\n",
    "#Ans.9\n",
    "\n",
    "l = [1,2,[],3,[1,2,3],[],5,6,7,8,9,10,11,12]\n",
    "res = [ele for ele in l if ele != []]\n",
    "print(res)"
   ]
  },
  {
   "cell_type": "code",
   "execution_count": 34,
   "metadata": {},
   "outputs": [
    {
     "name": "stdout",
     "output_type": "stream",
     "text": [
      "[1, 2, 3, 4, 5, 6, 7, 8]\n"
     ]
    }
   ],
   "source": [
    "#10. Write a Python program to Cloning or Copying a list?\n",
    "#Ans.10\n",
    "l1 = [1,2,3,4,5,6,7,8]\n",
    "l2 = l1.copy()\n",
    "print(l2)"
   ]
  },
  {
   "cell_type": "code",
   "execution_count": 37,
   "metadata": {},
   "outputs": [
    {
     "name": "stdout",
     "output_type": "stream",
     "text": [
      "Count of occurrences of number 7 in list is : 9\n"
     ]
    }
   ],
   "source": [
    "#11. Write a Python program to Count occurrences of an element in a list?\n",
    "#Ans.11\n",
    "l = [1,2,3,4,5,6,7,7,7,7,7,7,0,8,9,10,11,7,8,9,7,7]\n",
    "print('Count of occurrences of number 7 in list is :', l.count(7))"
   ]
  }
 ],
 "metadata": {
  "kernelspec": {
   "display_name": "Python 3",
   "language": "python",
   "name": "python3"
  },
  "language_info": {
   "codemirror_mode": {
    "name": "ipython",
    "version": 3
   },
   "file_extension": ".py",
   "mimetype": "text/x-python",
   "name": "python",
   "nbconvert_exporter": "python",
   "pygments_lexer": "ipython3",
   "version": "3.8.3"
  }
 },
 "nbformat": 4,
 "nbformat_minor": 4
}
