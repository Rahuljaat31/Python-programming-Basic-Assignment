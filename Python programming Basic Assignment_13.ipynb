{
 "cells": [
  {
   "cell_type": "markdown",
   "metadata": {},
   "source": [
    "Question 1:\n",
    "\n",
    "Write a program that calculates and prints the value according to the given formula:\n",
    "\n",
    "Q = Square root of [(2 * C * D)/H]\n",
    "\n",
    "Following are the fixed values of C and H:\n",
    "\n",
    "C is 50. H is 30.\n",
    "\n",
    "D is the variable whose values should be input to your program in a comma-separated sequence.\n",
    "\n",
    "Example\n",
    "\n",
    "Let us assume the following comma separated input sequence is given to the program:\n",
    "\n",
    "100,150,180\n",
    "\n",
    "The output of the program should be:\n",
    "\n",
    "18,22,24"
   ]
  },
  {
   "cell_type": "code",
   "execution_count": 3,
   "metadata": {},
   "outputs": [
    {
     "name": "stdout",
     "output_type": "stream",
     "text": [
      "Enter value of D in comma separated sequence: 100,150,180\n",
      "18,22,24\n"
     ]
    }
   ],
   "source": [
    "#Ans.1\n",
    "from math import sqrt\n",
    "\n",
    "def formula(D):\n",
    "    C = 50\n",
    "    H = 30\n",
    "    ans = []\n",
    "    for i in D:\n",
    "        ans.append(str(int(round(sqrt((2 * C * i)/H)))))\n",
    "    return ','.join(ans)\n",
    "D1 = list(map(int,input(\"Enter value of D in comma separated sequence: \").split(\",\")))\n",
    "\n",
    "print(formula(D1))"
   ]
  },
  {
   "cell_type": "markdown",
   "metadata": {},
   "source": [
    "Question 2:\n",
    "\n",
    "Write a program which takes 2 digits, X,Y as input and generates a 2-dimensional array. The element value in the i-th row and j-th column of the array should be i*j.\n",
    "\n",
    "Note: i=0,1.., X-1; j=0,1,¡Y-1.\n",
    "\n",
    "Example\n",
    "\n",
    "Suppose the following inputs are given to the program:\n",
    "\n",
    "3,5\n",
    "\n",
    "Then, the output of the program should be:\n",
    "\n",
    "[[0, 0, 0, 0, 0], [0, 1, 2, 3, 4], [0, 2, 4, 6, 8]]"
   ]
  },
  {
   "cell_type": "code",
   "execution_count": 11,
   "metadata": {},
   "outputs": [
    {
     "name": "stdout",
     "output_type": "stream",
     "text": [
      "Enter Rows: 3\n",
      "Enter Columns: 5\n",
      "[0, 0, 0, 0, 0]\n",
      "[0, 1, 2, 3, 4]\n",
      "[0, 2, 4, 6, 8]\n",
      "[[0, 0, 0, 0, 0], [0, 1, 2, 3, 4], [0, 2, 4, 6, 8]]\n"
     ]
    }
   ],
   "source": [
    "#Ans.2\n",
    "x = int(input(\"Enter Rows: \"))\n",
    "y = int(input(\"Enter Columns: \"))\n",
    "matrix = []\n",
    "for i in range(x):\n",
    "    r = []\n",
    "    for j in range(y):\n",
    "        r.append(i*j)\n",
    "    matrix.append(r)\n",
    "    print(r)\n",
    "print(matrix)"
   ]
  },
  {
   "cell_type": "markdown",
   "metadata": {},
   "source": [
    "Question 3:\n",
    "\n",
    "Write a program that accepts a comma separated sequence of words as input and prints the words in a comma-separated sequence after sorting them alphabetically.\n",
    "\n",
    "Suppose the following input is supplied to the program:\n",
    "\n",
    "without,hello,bag,world\n",
    "\n",
    "Then, the output should be:\n",
    "\n",
    "bag,hello,without,world"
   ]
  },
  {
   "cell_type": "code",
   "execution_count": 1,
   "metadata": {},
   "outputs": [
    {
     "name": "stdout",
     "output_type": "stream",
     "text": [
      "Enter comma separated words: without,hello,bag,world\n",
      "['bag', 'hello', 'without', 'world']\n"
     ]
    }
   ],
   "source": [
    "#Ans.3\n",
    "def sortword():\n",
    "    word = input(\"Enter comma separated words: \").split(\",\")\n",
    "    word.sort()\n",
    "    print(word)\n",
    "sortword()"
   ]
  },
  {
   "cell_type": "markdown",
   "metadata": {},
   "source": [
    "Question 4:\n",
    "    \n",
    "Write a program that accepts a sequence of whitespace separated words as input and prints the words after removing all duplicate\n",
    "words and sorting them alphanumerically.\n",
    "\n",
    "Suppose the following input is supplied to the program:\n",
    "    \n",
    "hello world and practice makes perfect and hello world again\n",
    "\n",
    "Then, the output should be:\n",
    "    \n",
    "again and hello makes perfect practice world"
   ]
  },
  {
   "cell_type": "code",
   "execution_count": 2,
   "metadata": {},
   "outputs": [
    {
     "name": "stdout",
     "output_type": "stream",
     "text": [
      "Enter input separated by whitespace: hello world and practice makes perfect and hello world again\n",
      "['again', 'and', 'hello', 'makes', 'perfect', 'practice', 'world']\n"
     ]
    }
   ],
   "source": [
    "#Ans.4\n",
    "def sortworddup():\n",
    "    w = input(\"Enter input separated by whitespace: \").split()\n",
    "    w = list(dict.fromkeys(w))\n",
    "    w.sort()\n",
    "    print(w)\n",
    "sortworddup()"
   ]
  },
  {
   "cell_type": "markdown",
   "metadata": {},
   "source": [
    "Question 5:\n",
    "    \n",
    "Write a program that accepts a sentence and calculate the number of letters and digits.\n",
    "\n",
    "Suppose the following input is supplied to the program:\n",
    "    \n",
    "hello world! 123\n",
    "\n",
    "Then, the output should be:\n",
    "    \n",
    "LETTERS 10\n",
    "\n",
    "DIGITS 3"
   ]
  },
  {
   "cell_type": "code",
   "execution_count": 6,
   "metadata": {},
   "outputs": [
    {
     "name": "stdout",
     "output_type": "stream",
     "text": [
      "Input a string : hello world! 123\n",
      "LETTERS  10\n",
      "DIGITS  3\n"
     ]
    }
   ],
   "source": [
    "#Ans.5\n",
    "s = input(\"Input a string : \")\n",
    "dig=let=0\n",
    "for i in s:\n",
    "    if i.isdigit():\n",
    "        dig += 1\n",
    "    elif i.isalpha():\n",
    "        let += 1\n",
    "    else:\n",
    "        pass\n",
    "print(\"LETTERS \", let)\n",
    "print(\"DIGITS \", dig)"
   ]
  },
  {
   "cell_type": "markdown",
   "metadata": {},
   "source": [
    "Question 6:\n",
    "\n",
    "A website requires the users to input username and password to register. Write a program to check the validity of password input by users.\n",
    "\n",
    "Following are the criteria for checking the password:\n",
    "\n",
    "1. At least 1 letter between [a-z]\n",
    "\n",
    "2. At least 1 number between [0-9]\n",
    "\n",
    "1. At least 1 letter between [A-Z]\n",
    "\n",
    "3. At least 1 character from [$#@]\n",
    "\n",
    "4. Minimum length of transaction password: 6\n",
    "\n",
    "5. Maximum length of transaction password: 12\n",
    "\n",
    "Your program should accept a sequence of comma separated passwords and will check them according to the above criteria. \n",
    "\n",
    "Passwords that match the criteria are to be printed, each separated by a comma.\n",
    "\n",
    "Example\n",
    "\n",
    "If the following passwords are given as input to the program:\n",
    "\n",
    "ABd1234@1,a F1#,2w3E*,2We3345\n",
    "\n",
    "Then, the output of the program should be:\n",
    "\n",
    "ABd1234@1"
   ]
  },
  {
   "cell_type": "code",
   "execution_count": 10,
   "metadata": {},
   "outputs": [
    {
     "name": "stdout",
     "output_type": "stream",
     "text": [
      "Enter Password : ABd1234@1,a F1#,2w3E*,2We3345\n",
      "ABd1234@1\n"
     ]
    }
   ],
   "source": [
    "#Ans.6\n",
    "import re\n",
    "\n",
    "def chkpaswd(paswd):\n",
    "    \n",
    "    l = []\n",
    "    for i in paswd:\n",
    "        if len(i) >= 6 and len(i) <= 12:\n",
    "            if re.search(r\"[a-z]\",i):\n",
    "                if re.search(r\"[0-9]\",i):\n",
    "                    if re.search(r\"[A-Z]\",i):\n",
    "                        if re.search(r\"[$#@]\",i):\n",
    "                            l.append(i)\n",
    "    return ','.join(l)\n",
    "        \n",
    "paswd = list(map(str, input(\"Enter Password : \").split(\",\")))\n",
    "print(chkpaswd(paswd))"
   ]
  }
 ],
 "metadata": {
  "kernelspec": {
   "display_name": "Python 3",
   "language": "python",
   "name": "python3"
  },
  "language_info": {
   "codemirror_mode": {
    "name": "ipython",
    "version": 3
   },
   "file_extension": ".py",
   "mimetype": "text/x-python",
   "name": "python",
   "nbconvert_exporter": "python",
   "pygments_lexer": "ipython3",
   "version": "3.8.3"
  }
 },
 "nbformat": 4,
 "nbformat_minor": 4
}
